{
 "cells": [
  {
   "cell_type": "code",
   "execution_count": 13,
   "metadata": {},
   "outputs": [],
   "source": [
    "import xml.etree.ElementTree as ET"
   ]
  },
  {
   "cell_type": "code",
   "execution_count": 42,
   "metadata": {},
   "outputs": [],
   "source": [
    "tree = ET.parse('SilverbackOpen2018.xml')\n",
    "root = tree.getroot()"
   ]
  },
  {
   "cell_type": "code",
   "execution_count": 5,
   "metadata": {},
   "outputs": [
    {
     "data": {
      "text/plain": [
       "'Jam'"
      ]
     },
     "execution_count": 5,
     "metadata": {},
     "output_type": "execute_result"
    }
   ],
   "source": [
    "root.tag"
   ]
  },
  {
   "cell_type": "code",
   "execution_count": 6,
   "metadata": {},
   "outputs": [
    {
     "name": "stdout",
     "output_type": "stream",
     "text": [
      "Battle {}\n"
     ]
    }
   ],
   "source": [
    "for child in root:\n",
    "    print(child.tag, child.attrib)"
   ]
  },
  {
   "cell_type": "code",
   "execution_count": 7,
   "metadata": {},
   "outputs": [
    {
     "data": {
      "text/plain": [
       "['Jam',\n",
       " 'Battle',\n",
       " 'Competitors',\n",
       " 'Competitor_1',\n",
       " 'Competitor_2',\n",
       " 'Judges',\n",
       " 'Judge_1',\n",
       " 'Judge_2',\n",
       " 'Judge_3',\n",
       " 'Judge_4',\n",
       " 'Judge_5',\n",
       " 'Judge_6',\n",
       " 'Judge_7',\n",
       " 'Round',\n",
       " 'Judge_1_Scores',\n",
       " 'Physical',\n",
       " 'Artistic',\n",
       " 'Interpretive',\n",
       " 'Judge_2_Scores',\n",
       " 'Physical',\n",
       " 'Artistic',\n",
       " 'Interpretive',\n",
       " 'Judge_3_Scores',\n",
       " 'Physical',\n",
       " 'Artistic',\n",
       " 'Interpretive',\n",
       " 'Judge_4_Scores',\n",
       " 'Physical',\n",
       " 'Artistic',\n",
       " 'Interpretive',\n",
       " 'Judge_5_Scores',\n",
       " 'Physical',\n",
       " 'Artistic',\n",
       " 'Interpretive',\n",
       " 'Judge_6_Scores',\n",
       " 'Physical',\n",
       " 'Artistic',\n",
       " 'Interpretive',\n",
       " 'Judge_7_Scores',\n",
       " 'Physical',\n",
       " 'Artistic',\n",
       " 'Interpretive',\n",
       " 'Round',\n",
       " 'Round',\n",
       " 'Round',\n",
       " 'Round']"
      ]
     },
     "execution_count": 7,
     "metadata": {},
     "output_type": "execute_result"
    }
   ],
   "source": [
    "[elem.tag for elem in root.iter()]"
   ]
  },
  {
   "cell_type": "code",
   "execution_count": null,
   "metadata": {},
   "outputs": [],
   "source": []
  }
 ],
 "metadata": {
  "kernelspec": {
   "display_name": "Python 3",
   "language": "python",
   "name": "python3"
  },
  "language_info": {
   "codemirror_mode": {
    "name": "ipython",
    "version": 3
   },
   "file_extension": ".py",
   "mimetype": "text/x-python",
   "name": "python",
   "nbconvert_exporter": "python",
   "pygments_lexer": "ipython3",
   "version": "3.6.5"
  }
 },
 "nbformat": 4,
 "nbformat_minor": 2
}
